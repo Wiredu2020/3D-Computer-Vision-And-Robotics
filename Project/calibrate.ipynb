{
 "cells": [
  {
   "cell_type": "code",
   "execution_count": 2,
   "id": "fe4e7757",
   "metadata": {},
   "outputs": [],
   "source": [
    "import numpy as np\n",
    "import os\n",
    "import cv2\n",
    "from scipy.optimize import least_squares\n",
    "import glob"
   ]
  },
  {
   "cell_type": "code",
   "execution_count": 3,
   "id": "e1064381",
   "metadata": {},
   "outputs": [],
   "source": [
    "def make_world_grid(pattern_size, square_size):\n",
    "    \"\"\" pattern_size = (cols, rows) of inner corners,\n",
    "      square_size in your chosen unit (e.g. mm). \"\"\"\n",
    "    cols, rows = pattern_size\n",
    "    objp = np.zeros((cols*rows, 3), dtype=np.float32)\n",
    "    # x = column index * square_size, y = row index * square_size\n",
    "    objp[:, :2] = np.mgrid[0:cols, 0:rows].T.reshape(-1, 2) * square_size\n",
    "    return objp.T  # shape = (3, N)"
   ]
  },
  {
   "cell_type": "code",
   "execution_count": 4,
   "id": "ffe2d252",
   "metadata": {},
   "outputs": [],
   "source": [
    "def auto_detect_corners(img, pattern_size=(4, 4)):\n",
    "    \"\"\"\n",
    "    Try cv2.findChessboardCorners to get Nx2 image points automatically.\n",
    "    Adjust pattern_size to match your printed template.\n",
    "    \"\"\"\n",
    "    criteria = (cv2.TermCriteria_EPS + cv2.TermCriteria_MAX_ITER, 30, 0.001)\n",
    "\n",
    "    gray = cv2.cvtColor(img, cv2.COLOR_BGR2GRAY)\n",
    "    ret, corners = cv2.findChessboardCorners(gray, pattern_size)\n",
    "    if not ret:\n",
    "        raise RuntimeError(\"Chessboard corners not detected. Try a different pattern_size or image.\")\n",
    "    else:\n",
    "        # Refine the corner positions\n",
    "        corners2 = cv2.cornerSubPix(gray, corners, (11, 11), (-1, -1), criteria)\n",
    "    #corners = corners.squeeze().T  # 2×N\n",
    "    return corners2.squeeze().T"
   ]
  },
  {
   "cell_type": "code",
   "execution_count": 5,
   "id": "3319ada8",
   "metadata": {},
   "outputs": [],
   "source": [
    "def reproj_residuals(P, point3d, point2d):\n",
    "    P = P.reshape(3,4)\n",
    "    #  perform calibration and apply it to the 3D points\n",
    "    points3d_homog = np.hstack((point3d.T, np.ones(( point3d.T.shape[0],1))))\n",
    "    projected_points = P @ points3d_homog.T\n",
    "    projected_points = projected_points[:2] / projected_points[2]# Normalize\n",
    "    pro_2d = projected_points.T\n",
    "    return  np.linalg.norm(point2d.T - pro_2d, axis=1)\n"
   ]
  },
  {
   "cell_type": "code",
   "execution_count": 6,
   "id": "ae988535",
   "metadata": {},
   "outputs": [],
   "source": [
    "def calibrate(points2d, points3d, Norm = False):\n",
    "    # Number of points\n",
    "    if Norm == False:\n",
    "        points2d = points2d.T\n",
    "        points3d = points3d.T\n",
    "    n = points3d.shape[0]\n",
    "\n",
    "    # Construct the A matrix\n",
    "    A = []\n",
    "    for i in range(n):\n",
    "        X, Y, _ = points3d[i, :]  \n",
    "        u, v = points2d[i, :]\n",
    "        X3 = np.array([X,Y,0])\n",
    "        Y3 = np.array([u,v,0])\n",
    "        Z  = np.cross(X3, Y3)  \n",
    "        Z = Z[2]   \n",
    "        A.append([0, 0, 0, 0, -X, -Y, -Z, -1, v*X, v*Y, v*Z, v])\n",
    "        A.append([X, Y, Z, 1, 0, 0, 0, 0, -u*X, -u*Y, -u*Z, -u])\n",
    "        \n",
    "    A = np.array(A)\n",
    "\n",
    "    # Perform SVD on A\n",
    "    _, _, Vt = np.linalg.svd(A )\n",
    "    M = Vt[-1].reshape(3, 4)\n",
    "    \n",
    "    return M"
   ]
  },
  {
   "cell_type": "code",
   "execution_count": 7,
   "id": "a0ff6062",
   "metadata": {},
   "outputs": [],
   "source": [
    "def load_and_detect_all(folder_path, pattern_size=(5, 8), extensions=('png', 'jpg', 'jpeg')):\n",
    "    # Find all image files in folder with given extensions\n",
    "    files = []\n",
    "    for ext in extensions:\n",
    "        files.extend(glob.glob(os.path.join(folder_path, f'*.{ext}')))\n",
    "    files = sorted(files)  # optional: sort alphabetically\n",
    "    point3d = make_world_grid(pattern_size,0.04)\n",
    "    all_points = []  # list to hold each (2, Ni) array\n",
    "    all_points3 = []\n",
    "    for img_path in files:\n",
    "        img = cv2.imread(img_path)\n",
    "        if img is None:\n",
    "            print(f'Warning: failed to load {img_path}')\n",
    "            continue\n",
    "        \n",
    "        # detect corners in this image, returns shape (2, Ni)\n",
    "        pts = auto_detect_corners(img, pattern_size=pattern_size)\n",
    "        \n",
    "        if pts is None or pts.size == 0:\n",
    "            print(f'No corners detected in {img_path}')\n",
    "            continue\n",
    "        else:\n",
    "            all_points3.append(point3d)\n",
    "            all_points.append(pts)\n",
    "            print(f'Detected {pts.shape[1]} points in {os.path.basename(img_path)}')\n",
    "    \n",
    "    if not all_points:\n",
    "        raise RuntimeError(\"No corner points detected in any image.\")\n",
    "    \n",
    "    # Concatenate along columns: result is (2, sum(Ni))\n",
    "    concatenated = np.hstack(all_points)\n",
    "    concat = np.hstack(all_points3)\n",
    "    print(f'Total points: {concatenated.shape[1]}')\n",
    "    return concatenated, concat\n"
   ]
  },
  {
   "cell_type": "code",
   "execution_count": 7,
   "id": "7c1f5b5d",
   "metadata": {},
   "outputs": [],
   "source": [
    "point3d = make_world_grid((5,8),0.04)"
   ]
  },
  {
   "cell_type": "code",
   "execution_count": 8,
   "id": "0f6a8e41",
   "metadata": {},
   "outputs": [],
   "source": [
    "image_path = \"calibration/t_img.png\"\n",
    "img = cv2.imread(image_path)"
   ]
  },
  {
   "cell_type": "code",
   "execution_count": 9,
   "id": "de784608",
   "metadata": {},
   "outputs": [],
   "source": [
    "point2d = auto_detect_corners(img, pattern_size=(5,8))\n"
   ]
  },
  {
   "cell_type": "code",
   "execution_count": null,
   "id": "addc0981",
   "metadata": {},
   "outputs": [
    {
     "name": "stdout",
     "output_type": "stream",
     "text": [
      "Detected 40 points in img1.png\n",
      "Detected 40 points in img2.png\n",
      "Detected 40 points in t_img.png\n",
      "Total points: 120\n"
     ]
    }
   ],
   "source": [
    "folder = 'calibration'\n",
    "point2d_all, point3d_all = load_and_detect_all(folder, pattern_size=(5, 8))\n"
   ]
  },
  {
   "cell_type": "code",
   "execution_count": 105,
   "id": "801aab99",
   "metadata": {},
   "outputs": [
    {
     "data": {
      "text/plain": [
       "(3, 120)"
      ]
     },
     "execution_count": 105,
     "metadata": {},
     "output_type": "execute_result"
    }
   ],
   "source": [
    "point3d_all.shape"
   ]
  },
  {
   "cell_type": "code",
   "execution_count": 17,
   "id": "9b8eab74",
   "metadata": {},
   "outputs": [
    {
     "name": "stdout",
     "output_type": "stream",
     "text": [
      "Projection Matrix M:\n",
      " [[-2.94888813e-01 -8.62701310e-01 -2.39181793e-06 -1.35971355e-01]\n",
      " [ 2.54365599e-01 -3.65037797e-02  6.25647834e-06 -2.90282675e-01]\n",
      " [-4.67232355e-04 -1.52295890e-04  8.48373916e-09 -4.15021682e-04]]\n"
     ]
    }
   ],
   "source": [
    "\n",
    "# Calibrate using the given points\n",
    "M = calibrate(point2d_all,point3d_all)\n",
    "print(\"Projection Matrix M:\\n\", M)"
   ]
  },
  {
   "cell_type": "code",
   "execution_count": 31,
   "id": "9332598c",
   "metadata": {},
   "outputs": [],
   "source": [
    "#  perform calibration and apply it to the 3D points\n",
    "points3d_homog = np.hstack((point3d_all.T[40:80], np.ones(( point3d_all.T[40:80].shape[0],1))))\n",
    "projected_points = M @ points3d_homog.T\n",
    "projected_points = projected_points[:2] / projected_points[2]# Normalize\n",
    "pro_2d = projected_points.T"
   ]
  },
  {
   "cell_type": "code",
   "execution_count": 28,
   "id": "316ae200",
   "metadata": {},
   "outputs": [
    {
     "data": {
      "text/plain": [
       "(40, 2)"
      ]
     },
     "execution_count": 28,
     "metadata": {},
     "output_type": "execute_result"
    }
   ],
   "source": [
    "point2d_all.T[80:].shape"
   ]
  },
  {
   "cell_type": "code",
   "execution_count": 32,
   "id": "09be8113",
   "metadata": {},
   "outputs": [
    {
     "name": "stdout",
     "output_type": "stream",
     "text": [
      "MSSE\n",
      "Reprojection error (without normalization): 856.3132448516392\n"
     ]
    }
   ],
   "source": [
    "# calcuate reprojection error and print it\n",
    "err = np.mean(np.linalg.norm(point2d_all.T[40:80] - pro_2d, axis=1))\n",
    "print(\"MSSE\")\n",
    "print(\"Reprojection error (without normalization):\", err)"
   ]
  },
  {
   "cell_type": "code",
   "execution_count": 12,
   "id": "2b1a09b6",
   "metadata": {},
   "outputs": [],
   "source": [
    "def calibrate_norm(points2d, points3d):\n",
    "    # implement normalization\n",
    "    points2d = points2d.T\n",
    "    points3d = points3d.T\n",
    "    p_2d = np.hstack((points2d, np.ones((points2d.shape[0], 1)))) \n",
    "    p_3d = np.hstack((points3d, np.ones((points3d.shape[0], 1))))  \n",
    "\n",
    "    mean = np.mean(points2d, axis=0)  \n",
    "    std = np.std(points2d, axis=0) \n",
    "    mean_3d = np.mean(points3d, axis=0)  \n",
    "    std_3d = np.std(points3d, axis=0)  \n",
    "\n",
    "    T_2d = np.array([\n",
    "        [np.sqrt(2) / std[0], 0, -np.sqrt(2) / std[0] * mean[0]],\n",
    "        [0, np.sqrt(2) / std[1], -np.sqrt(2) / std[1] * mean[1]],\n",
    "        [0, 0, 1]\n",
    "    ])\n",
    "    T_3d = np.array([\n",
    "        [np.sqrt(3) / std_3d[0], 0, 0, -np.sqrt(3) / std_3d[0] * mean_3d[0]],\n",
    "        [0, np.sqrt(3) / std_3d[1], 0, -np.sqrt(3) / std_3d[1] * mean_3d[1]],\n",
    "        [0, 0, np.sqrt(3) / (std_3d[2]+0.0001), -np.sqrt(3) / (std_3d[2]+0.0001) * (mean_3d[2]+0.0001)],\n",
    "        [0, 0, 0, 1]\n",
    "    ])\n",
    "\n",
    "    normalized_2d_pts =  (T_2d @ p_2d.T).T[:, :2]  \n",
    "    normalized_3d_pts = (T_3d @ p_3d.T).T[:, :3] \n",
    "    M = calibrate(normalized_2d_pts, normalized_3d_pts, Norm= True)\n",
    "\n",
    "    #  do not forget to denormalize\n",
    "\n",
    "    denormalized_M = np.linalg.inv(T_2d) @ M @ T_3d\n",
    "\n",
    "    return denormalized_M\n"
   ]
  },
  {
   "cell_type": "code",
   "execution_count": 140,
   "id": "a7d94782",
   "metadata": {},
   "outputs": [
    {
     "name": "stdout",
     "output_type": "stream",
     "text": [
      "Projection Matrix with Normalization:\n",
      " [[ 1.84171504e+03  1.30726996e+03 -5.81857496e+04 -7.95352074e+02]\n",
      " [ 1.01333222e+03  6.33599324e+02 -1.26153672e+04 -2.93074114e+02]\n",
      " [ 1.67408433e+00  1.13330672e+00 -2.29845533e+01 -4.97515428e-01]]\n"
     ]
    }
   ],
   "source": [
    "# Calibrate with normalization\n",
    "M_norm = calibrate_norm(point2d_all,point3d_all)\n",
    "print(\"Projection Matrix with Normalization:\\n\", M_norm)"
   ]
  },
  {
   "cell_type": "code",
   "execution_count": 141,
   "id": "e45ccda8",
   "metadata": {},
   "outputs": [],
   "source": [
    "#  perform calibration and apply it to the 3D points\n",
    "projected_points = M_norm  @ points3d_homog.T\n",
    "projected_points = projected_points[:2] / projected_points[2]# Normalize\n",
    "pro_2d = projected_points.T"
   ]
  },
  {
   "cell_type": "code",
   "execution_count": 143,
   "id": "75a6c234",
   "metadata": {},
   "outputs": [
    {
     "name": "stdout",
     "output_type": "stream",
     "text": [
      "MSSE\n",
      "Reprojection error (without normalization): 4159.997035147656\n"
     ]
    }
   ],
   "source": [
    "# calcuate reprojection error and print it\n",
    "err = np.mean(np.linalg.norm(point2d_all.T - pro_2d, axis=1))\n",
    "print(\"MSSE\")\n",
    "print(\"Reprojection error (without normalization):\", err)"
   ]
  },
  {
   "cell_type": "code",
   "execution_count": 94,
   "id": "d951456c",
   "metadata": {},
   "outputs": [],
   "source": [
    "def calibrate_opt(points2d, points3d):\n",
    "    \"\"\"\n",
    "    points2d: (N×2) array of image pts\n",
    "    points3d: (N×3) array of world pts\n",
    "    returns: 3×4 projection matrix P\n",
    "    \"\"\"\n",
    "    # implement normalization\n",
    "    points2d = points2d.T\n",
    "    points3d = points3d.T\n",
    "    p_2d = np.hstack((points2d, np.ones((points2d.shape[0], 1)))) \n",
    "    p_3d = np.hstack((points3d, np.ones((points3d.shape[0], 1))))  \n",
    "\n",
    "    mean = np.mean(points2d, axis=0)  \n",
    "    std = np.std(points2d, axis=0) \n",
    "    mean_3d = np.mean(points3d, axis=0)  \n",
    "    std_3d = np.std(points3d, axis=0)  \n",
    "\n",
    "    T_2d = np.array([\n",
    "        [np.sqrt(2) / std[0], 0, -np.sqrt(2) / std[0] * mean[0]],\n",
    "        [0, np.sqrt(2) / std[1], -np.sqrt(2) / std[1] * mean[1]],\n",
    "        [0, 0, 1]\n",
    "    ])\n",
    "    T_3d = np.array([\n",
    "        [np.sqrt(3) / std_3d[0], 0, 0, -np.sqrt(3) / std_3d[0] * mean_3d[0]],\n",
    "        [0, np.sqrt(3) / std_3d[1], 0, -np.sqrt(3) / std_3d[1] * mean_3d[1]],\n",
    "        [0, 0, np.sqrt(3) / (std_3d[2]+0.0001), -np.sqrt(3) / (std_3d[2]+0.0001) * (mean_3d[2]+0.0001)],\n",
    "        [0, 0, 0, 1]\n",
    "    ])\n",
    "\n",
    "    normalized_2d_pts =  (T_2d @ p_2d.T).T[:, :2]  \n",
    "    normalized_3d_pts = (T_3d @ p_3d.T).T[:, :3] \n",
    "    M = calibrate(normalized_2d_pts, normalized_3d_pts, Norm= True)\n",
    "    DM = np.linalg.inv(T_2d) @ M @ T_3d \n",
    "    # initial guess x0 = P0.flatten()\n",
    "    DM = DM .flatten()\n",
    "    res = least_squares(reproj_residuals, DM, args=(points3d.T, points2d.T),method='lm')   # Levenberg–Marquardt or Gauss–Newton\n",
    "    P_opt = res.x.reshape(3,4)\n",
    "\n",
    "    return P_opt\n",
    "   "
   ]
  },
  {
   "cell_type": "markdown",
   "id": "d9f312d6",
   "metadata": {},
   "source": [
    "### Final Calibration"
   ]
  },
  {
   "cell_type": "code",
   "execution_count": null,
   "id": "6f5624a0",
   "metadata": {},
   "outputs": [],
   "source": [
    "def calibrate(imgs):\n",
    "    \"\"\"Calibrate the camera using images of a scene.\n",
    "\n",
    "    Args:\n",
    "        imgs (list<PIL.Image>): a list of PIL images to be used for calibration\n",
    "\n",
    "    Returns:\n",
    "        results of calibration that could be used for finding 3D positions of robot, blocks and target positions.\n",
    "        They could, for example, contain camera frame, projection matrix, etc.\n",
    "    \"\"\"    \n",
    "    pattern_size =(6,8)\n",
    "    square_size = 0.04\n",
    "    # implement normalization\n",
    "    cols, rows = pattern_size\n",
    "    objp = np.zeros((cols*rows, 3), dtype=np.float32)\n",
    "    # x = column index * square_size, y = row index * square_size\n",
    "    objp[:, :2] = np.mgrid[0:cols, 0:rows].T.reshape(-1, 2) * square_size\n",
    "\n",
    "    criteria = (cv2.TermCriteria_EPS + cv2.TermCriteria_MAX_ITER, 30, 0.001)\n",
    "\n",
    "    gray = cv2.cvtColor(img, cv2.COLOR_BGR2GRAY)\n",
    "    ret, corners = cv2.findChessboardCorners(gray, pattern_size)\n",
    "    if not ret:\n",
    "        raise RuntimeError(\"Chessboard corners not detected. Try a different pattern_size or image.\")\n",
    "    else:\n",
    "        # Refine the corner positions\n",
    "        corners2 = cv2.cornerSubPix(gray, corners, (11, 11), (-1, -1), criteria)\n",
    "    #corners = corners.squeeze().T  # 2×N\n",
    "   \n",
    "    \n",
    "    points2d = corners2.squeeze()\n",
    "    points3d = objp\n",
    "    p_2d = np.hstack((points2d, np.ones((points2d.shape[0], 1)))) \n",
    "    p_3d = np.hstack((points3d, np.ones((points3d.shape[0], 1))))  \n",
    "\n",
    "    mean = np.mean(points2d, axis=0)  \n",
    "    std = np.std(points2d, axis=0) \n",
    "    mean_3d = np.mean(points3d, axis=0)  \n",
    "    std_3d = np.std(points3d, axis=0)  \n",
    "\n",
    "    T_2d = np.array([\n",
    "        [np.sqrt(2) / std[0], 0, -np.sqrt(2) / std[0] * mean[0]],\n",
    "        [0, np.sqrt(2) / std[1], -np.sqrt(2) / std[1] * mean[1]],\n",
    "        [0, 0, 1]\n",
    "    ])\n",
    "    T_3d = np.array([\n",
    "        [np.sqrt(3) / std_3d[0], 0, 0, -np.sqrt(3) / std_3d[0] * mean_3d[0]],\n",
    "        [0, np.sqrt(3) / std_3d[1], 0, -np.sqrt(3) / std_3d[1] * mean_3d[1]],\n",
    "        [0, 0, np.sqrt(3) / (std_3d[2]+0.0001), -np.sqrt(3) / (std_3d[2]+0.0001) * (mean_3d[2]+0.0001)],\n",
    "        [0, 0, 0, 1]\n",
    "    ])\n",
    "\n",
    "    normalized_2d_pts =  (T_2d @ p_2d.T).T[:, :2]  \n",
    "    normalized_3d_pts = (T_3d @ p_3d.T).T[:, :3] \n",
    "    M = calibrate(normalized_2d_pts, normalized_3d_pts, Norm= True)\n",
    "    DM = np.linalg.inv(T_2d) @ M @ T_3d \n",
    "    # initial guess x0 = P0.flatten()\n",
    "    DM = DM .flatten()\n",
    "    res = least_squares(reproj_residuals, DM, args=(points3d.T, points2d.T),method='lm')   # Levenberg–Marquardt or Gauss–Newton\n",
    "    P_opt = res.x.reshape(3,4)\n",
    "\n",
    "    return P_opt"
   ]
  },
  {
   "cell_type": "code",
   "execution_count": 144,
   "id": "69eb34b0",
   "metadata": {},
   "outputs": [
    {
     "name": "stdout",
     "output_type": "stream",
     "text": [
      "Projection Matrix with Normalization:\n",
      " [[ 1.87198670e+03  1.34792933e+03 -5.81857496e+04 -5.70766225e+02]\n",
      " [ 1.02471171e+03  6.89654766e+02 -1.26153672e+04 -3.02764170e+02]\n",
      " [ 2.02397236e+00  1.52042114e+00 -2.29845533e+01 -6.29730139e-01]]\n"
     ]
    }
   ],
   "source": [
    "# Calibrate with optimization\n",
    "M_opt = calibrate_opt(point2d_all,point3d_all)\n",
    "print(\"Projection Matrix with Normalization:\\n\", M_opt)"
   ]
  },
  {
   "cell_type": "code",
   "execution_count": 145,
   "id": "f4656e34",
   "metadata": {},
   "outputs": [],
   "source": [
    "#  perform calibration and apply it to the 3D points\n",
    "projected_points = M_opt  @ points3d_homog.T\n",
    "projected_points = projected_points[:2] / projected_points[2]# Normalize\n",
    "pro_2d = projected_points.T"
   ]
  },
  {
   "cell_type": "code",
   "execution_count": 146,
   "id": "b0c838a4",
   "metadata": {},
   "outputs": [
    {
     "name": "stdout",
     "output_type": "stream",
     "text": [
      "MSSE\n",
      "Reprojection error (without normalization): 412.3400565831396\n"
     ]
    }
   ],
   "source": [
    "# calcuate reprojection error and print it\n",
    "err = np.mean(np.linalg.norm(point2d_all.T - pro_2d, axis=1))\n",
    "print(\"MSSE\")\n",
    "print(\"Reprojection error (without normalization):\", err)"
   ]
  }
 ],
 "metadata": {
  "kernelspec": {
   "display_name": "base",
   "language": "python",
   "name": "python3"
  },
  "language_info": {
   "codemirror_mode": {
    "name": "ipython",
    "version": 3
   },
   "file_extension": ".py",
   "mimetype": "text/x-python",
   "name": "python",
   "nbconvert_exporter": "python",
   "pygments_lexer": "ipython3",
   "version": "3.12.9"
  }
 },
 "nbformat": 4,
 "nbformat_minor": 5
}
